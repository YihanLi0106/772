{
 "cells": [
  {
   "cell_type": "code",
   "execution_count": 1,
   "metadata": {},
   "outputs": [],
   "source": [
    "import pandas as pd\n",
    "import numpy as np"
   ]
  },
  {
   "cell_type": "code",
   "execution_count": 16,
   "metadata": {},
   "outputs": [
    {
     "name": "stdout",
     "output_type": "stream",
     "text": [
      "<class 'pandas.core.frame.DataFrame'>\n",
      "DatetimeIndex: 5194 entries, 2003-05-15 to 2023-04-11\n",
      "Data columns (total 10 columns):\n",
      " #   Column                                Non-Null Count  Dtype  \n",
      "---  ------                                --------------  -----  \n",
      " 0   Bank of America Corp                  5194 non-null   float64\n",
      " 1   Boeing Co/The                         5194 non-null   float64\n",
      " 2   Simon Property Group LP               5194 non-null   float64\n",
      " 3   Citigroup Inc                         5194 non-null   float64\n",
      " 4   JPMorgan Chase & Co                   5194 non-null   float64\n",
      " 5   International Business Machines Corp  5194 non-null   float64\n",
      " 6   Motorola Solutions Inc                5194 non-null   float64\n",
      " 7   Caterpillar Inc                       5194 non-null   float64\n",
      " 8   Nestle SA (EUR)                       5194 non-null   float64\n",
      " 9   McDonald's Corp                       5194 non-null   float64\n",
      "dtypes: float64(10)\n",
      "memory usage: 446.4 KB\n"
     ]
    }
   ],
   "source": [
    "cds_data = pd.read_csv('cds3.csv', index_col=0, parse_dates=True)\n",
    "#   Convert the data from bps to percentage\n",
    "cds_data = cds_data / 10000\n",
    "#   Data cleaning\n",
    "cds_data = cds_data.ffill().bfill()\n",
    "cds_data.info()\n"
   ]
  },
  {
   "cell_type": "code",
   "execution_count": null,
   "metadata": {},
   "outputs": [],
   "source": [
    "def calculate_default_intensity(cds_data, data_range = 252, recovery_rate=0.4):\n",
    "    cds_data = cds_data.iloc[-data_range:]\n",
    "    intensity = pd.DataFrame(index=cds_data.index, columns=cds_data.columns)\n",
    "\n",
    "    for cds in intensity.columns:\n",
    "        intensity[cds] = cds_data[cds] / (1 - recovery_rate)\n",
    "\n",
    "    cds_mu = intensity.mean()\n",
    "    #\n",
    "    cds_sigma = intensity.std()\n",
    "\n",
    "    cds_corr = intensity.corr()\n",
    "        \n",
    "    return intensity, cds_mu, cds_sigma, cds_corr\n",
    "\n",
    "def calculate_default_prob(cds_data, intensity, data_range = 252, time_horizon=1/252):\n",
    "    cds_data = cds_data.iloc[-data_range:]\n",
    "    prob_default = pd.DataFrame(index=cds_data.index, columns=cds_data.columns)\n",
    "    \n",
    "    for cds in prob_default.columns:\n",
    "        prob_default[cds] = 1 - np.exp(-intensity[cds] * time_horizon)\n",
    "    \n",
    "    prob_default = prob_default.ffill().bfill()\n",
    "    \n",
    "    return prob_default\n",
    "\n",
    "intensity, cds_mu, cds_sigma, cds_corr = calculate_default_intensity(cds_data, data_range = 252, recovery_rate=0.4)\n",
    "prob_default = calculate_default_prob(cds_data, intensity, time_horizon=1)\n",
    "\n",
    "initial_intensity = intensity.iloc[-1]\n",
    "\n"
   ]
  },
  {
   "cell_type": "code",
   "execution_count": 65,
   "metadata": {},
   "outputs": [],
   "source": [
    "np.random.seed(42)\n",
    "selected_components = np.random.choice(cds_data.columns[:-1], 3, replace=False)\n",
    "counterparty = np.random.choice(cds_data.columns[-1:], 1)[0]\n",
    "\n",
    "selected = list(selected_components) + [counterparty]\n",
    "mu = cds_mu[selected]\n",
    "sigma = cds_sigma[selected]\n",
    "corr = cds_corr.loc[selected, selected]\n",
    "X = initial_intensity[selected]"
   ]
  }
 ],
 "metadata": {
  "kernelspec": {
   "display_name": "base",
   "language": "python",
   "name": "python3"
  },
  "language_info": {
   "codemirror_mode": {
    "name": "ipython",
    "version": 3
   },
   "file_extension": ".py",
   "mimetype": "text/x-python",
   "name": "python",
   "nbconvert_exporter": "python",
   "pygments_lexer": "ipython3",
   "version": "3.12.4"
  }
 },
 "nbformat": 4,
 "nbformat_minor": 2
}

{
 "cells": [
  {
   "cell_type": "code",
   "execution_count": 253,
   "id": "fe64b268",
   "metadata": {},
   "outputs": [],
   "source": [
    "import numpy as np\n",
    "import pandas as pd\n",
    "import scipy.stats as stats"
   ]
  },
  {
   "cell_type": "markdown",
   "id": "c1f1a5d0",
   "metadata": {},
   "source": [
    "# N=3 case"
   ]
  },
  {
   "cell_type": "code",
   "execution_count": 41,
   "id": "e49b42af",
   "metadata": {},
   "outputs": [],
   "source": [
    "N = 3 \n",
    "T = 3 \n",
    "steps = 300 \n",
    "dt = T / steps \n",
    "N_total = N + 1\n",
    "rf_rate = 0.03 \n",
    "\n"
   ]
  },
  {
   "cell_type": "markdown",
   "id": "b7dec874",
   "metadata": {},
   "source": [
    "## default intensity X(t) and default events"
   ]
  },
  {
   "cell_type": "markdown",
   "id": "3e038f8b",
   "metadata": {},
   "source": [
    "<span style=\"color: red\"> can change: Initial intensities, w, mean reversion (can change to number), volatility (can change to number), conterparty intensity"
   ]
  },
  {
   "cell_type": "code",
   "execution_count": 322,
   "id": "f634333f",
   "metadata": {},
   "outputs": [],
   "source": [
    "def mu(X):\n",
    "    return -0.1 * X  # Mean-reverting drift (example)\n",
    "\n",
    "def sigma(X):\n",
    "    return 0.05 * np.sqrt(X) "
   ]
  },
  {
   "cell_type": "code",
   "execution_count": 294,
   "id": "61f59bb4",
   "metadata": {},
   "outputs": [
    {
     "name": "stdout",
     "output_type": "stream",
     "text": [
      "Entity 2 defaulted at time 0.17\n",
      "Entity 3 defaulted at time 0.22\n",
      "Entity 1 defaulted at time 0.28\n",
      "Entity 4 defaulted at time 1.94\n",
      "\n",
      "Default times:\n",
      "Entity 1: 0.28\n",
      "Entity 2: 0.17\n",
      "Entity 3: 0.22\n",
      "Entity 4: 1.94\n"
     ]
    }
   ],
   "source": [
    "# Custom initial default intensities (X) including the counterparty (N+1th entity)\n",
    "X = np.array([0.2, 0.3, 0.4, 0.0])  # Initial intensities for 3 entities + counterparty\n",
    "# Note: X[N] (the counterparty) starts at 0 since it depends on the first N entities.\n",
    "\n",
    "\n",
    "w = np.array([\n",
    "    [0.0, 0.1, 0.2, 0.0],  # Impact of entities 2, 3, and counterparty on entity 1\n",
    "    [0.1, 0.0, 0.1, 0.0],  # Impact of entities 1, 3, and counterparty on entity 2\n",
    "    [0.2, 0.1, 0.0, 0.0],  # Impact of entities 1, 2, and counterparty on entity 3\n",
    "    [0.0, 0.0, 0.0, 0.0]   # Counterparty's intensity depends on N's default\n",
    "])\n",
    "\n",
    "# Simulation placeholders\n",
    "times = np.linspace(0, T, steps)\n",
    "X_trajectory = np.zeros((N_total, steps))  # Store trajectories of all entities\n",
    "default_times = [None] * N_total  # Track default times for all entities\n",
    "is_defaulted = np.zeros(N_total, dtype=bool)  # Track default status for all entities\n",
    "\n",
    "# Initialize intensities\n",
    "X_trajectory[:, 0] = X  # Store initial intensities\n",
    "\n",
    "# Simulate defaults\n",
    "for t in range(1, steps):  # Start from the second time step\n",
    "    current_time = t * dt\n",
    "\n",
    "    # Copy previous intensities as the baseline for this step\n",
    "    X_t = X_trajectory[:, t - 1]\n",
    "\n",
    "    # Update default intensities for first N entities using SDE\n",
    "    dW = np.random.normal(0, np.sqrt(dt), size=N_total)  # Brownian increments\n",
    "    dJ = w @ is_defaulted  # Contagion jump adjustments\n",
    "    X_t[:N] += mu(X_t[:N]) * dt + sigma(X_t[:N]) * dW[:N] + dJ[:N]  # Euler-Maruyama for first N entities\n",
    "    X_t[:N] = np.maximum(X_t[:N], 0)  # Ensure non-negative intensities\n",
    "\n",
    "    # Activate counterparty (N+1th) intensity if one or more defaults occurred in the first N\n",
    "    if any(is_defaulted[:N]):\n",
    "        X_t[N] = 0.1 + 0.1 * np.sum(is_defaulted[:N])  # Counterparty intensity depends on N defaults\n",
    "        X_t[N] += mu(X_t[N]) * dt + sigma(X_t[N]) * dW[N]  # SDE update\n",
    "        X_t[N] = max(X_t[N], 0)  # Ensure non-negative intensity\n",
    "\n",
    "    # Store updated intensities in the trajectory\n",
    "    X_trajectory[:, t] = X_t\n",
    "\n",
    "    # Check for defaults\n",
    "    for i in range(N_total):\n",
    "        if not is_defaulted[i]:\n",
    "            default_prob = 1 - np.exp(-X_t[i] * dt)  # Poisson process default\n",
    "            if np.random.uniform() < default_prob:\n",
    "                is_defaulted[i] = True\n",
    "                default_times[i] = current_time\n",
    "                print(f\"Entity {i+1} defaulted at time {current_time:.2f}\")\n",
    "\n",
    "    # Stop if all entities have defaulted\n",
    "    if all(is_defaulted):\n",
    "        X_trajectory[:, t:] = X_trajectory[:, t][:, None]  # Copy final intensities forward\n",
    "        break\n",
    "\n",
    "# Print results\n",
    "print(\"\\nDefault times:\")\n",
    "for i, t in enumerate(default_times):\n",
    "    print(f\"Entity {i+1}: {t if t is not None else 'Survived'}\")\n"
   ]
  },
  {
   "cell_type": "code",
   "execution_count": 323,
   "id": "65e93a99",
   "metadata": {},
   "outputs": [
    {
     "data": {
      "text/plain": [
       "array([[ 4.22877639,  4.2258374 ,  4.218078  , ..., 19.38569885,\n",
       "        19.38569885, 19.38569885],\n",
       "       [11.25922233, 11.25523181, 11.22760126, ..., 40.83928398,\n",
       "        40.83928398, 40.83928398],\n",
       "       [20.91736408, 20.89258322, 20.83682908, ..., 80.54275185,\n",
       "        80.54275185, 80.54275185],\n",
       "       [ 0.39970707,  0.39970707,  0.39970707, ...,  0.39522505,\n",
       "         0.39522505,  0.39522505]])"
      ]
     },
     "execution_count": 323,
     "metadata": {},
     "output_type": "execute_result"
    }
   ],
   "source": [
    "X_trajectory "
   ]
  },
  {
   "cell_type": "code",
   "execution_count": 325,
   "id": "cca30dac",
   "metadata": {},
   "outputs": [
    {
     "data": {
      "text/plain": [
       "array([ True,  True,  True,  True])"
      ]
     },
     "execution_count": 325,
     "metadata": {},
     "output_type": "execute_result"
    }
   ],
   "source": [
    "is_defaulted"
   ]
  },
  {
   "cell_type": "markdown",
   "id": "a7ee537e",
   "metadata": {},
   "source": [
    "<span style=\"color: purple\"> default intensities for 1 to N are updating from params for default intensities , i.e. mu, sigma, init intensity and w. default intensities for N+1 default intensity depend on how many of entity 1 to N default. \n",
    "\n",
    "<span style=\"color: purple\"> default events notes: once default, then default boolean for that entity remains True for the rest of the times"
   ]
  },
  {
   "cell_type": "markdown",
   "id": "40695d0e",
   "metadata": {},
   "source": [
    "## calculate cash flow"
   ]
  },
  {
   "cell_type": "markdown",
   "id": "cddb8655",
   "metadata": {},
   "source": [
    "<span style=\"color: red\"> can change: rf (can change to function), LGD, spread"
   ]
  },
  {
   "cell_type": "code",
   "execution_count": 299,
   "id": "8a861a72",
   "metadata": {},
   "outputs": [
    {
     "name": "stdout",
     "output_type": "stream",
     "text": [
      "\n",
      "Discounted Cash Flows:\n",
      "Entity 1:\n",
      "  Discounted Premium Leg: 0.0496\n",
      "  Discounted Protection Leg: 0.5950\n",
      "Entity 2:\n",
      "  Discounted Premium Leg: 0.0000\n",
      "  Discounted Protection Leg: 0.5969\n",
      "Entity 3:\n",
      "  Discounted Premium Leg: 0.0000\n",
      "  Discounted Protection Leg: 0.5961\n",
      "Counterparty:\n",
      "  Discounted Premium Leg: 0.5095\n",
      "  Discounted Protection Leg: 0.5661\n"
     ]
    }
   ],
   "source": [
    "# Parameters for CDS cash flow calculations\n",
    "recovery_rate = 0.4\n",
    "lgd = 1 - recovery_rate  # Loss Given Default\n",
    "maturity = T  # CDS maturity equals simulation time horizon\n",
    "spreads = np.array([0.2, 0.15, 0.2, 0.3])  # Annualized spreads for entities 1, 2, 3, and counterparty\n",
    "payment_frequency = 0.25  # Quarterly payments\n",
    "\n",
    "\n",
    "# Initialize discounted cash flow trackers\n",
    "discounted_premium_leg = np.zeros(N + 1)\n",
    "discounted_protection_leg = np.zeros(N + 1)\n",
    "\n",
    "# Calculate discounted cash flows for each entity\n",
    "for i in range(N + 1):\n",
    "    # Determine the default time for the entity\n",
    "    default_time = default_times[i]\n",
    "    if default_time is None:\n",
    "        # No default, entity survives to maturity\n",
    "        default_time = maturity\n",
    "\n",
    "    # Discounted Premium Leg: Sum of discounted periodic payments\n",
    "    num_premium_payments = int(min(default_time, maturity) / payment_frequency)\n",
    "    payment_times = np.arange(1, num_premium_payments + 1) * payment_frequency  # Times of payments\n",
    "    discount_factors = np.exp(-rf_rate * payment_times)  # Discount factor for each payment\n",
    "    discounted_premium_leg[i] = np.sum(discount_factors * payment_frequency * spreads[i])\n",
    "\n",
    "    # Discounted Protection Leg: Discounted LGD payment upon default\n",
    "    if default_times[i] is not None:  # Default occurred\n",
    "        discounted_protection_leg[i] = lgd * np.exp(-rf_rate * default_times[i])\n",
    "\n",
    "# Output results\n",
    "print(\"\\nDiscounted Cash Flows:\")\n",
    "for i in range(N + 1):\n",
    "    entity = f\"Entity {i+1}\" if i < N else \"Counterparty\"\n",
    "    print(f\"{entity}:\")\n",
    "    print(f\"  Discounted Premium Leg: {discounted_premium_leg[i]:.4f}\")\n",
    "    print(f\"  Discounted Protection Leg: {discounted_protection_leg[i]:.4f}\")\n"
   ]
  },
  {
   "cell_type": "code",
   "execution_count": null,
   "id": "e4282c53",
   "metadata": {},
   "outputs": [],
   "source": []
  },
  {
   "cell_type": "markdown",
   "id": "63ae9ccb",
   "metadata": {},
   "source": [
    "## compute F and g"
   ]
  },
  {
   "cell_type": "markdown",
   "id": "7fb3d470",
   "metadata": {},
   "source": [
    "<span style=\"color: purple\">  F: Represents the expected value of the default leg (protection payment), accounting for the discounted cash flows and the likelihood of default. F = E[LGD*exp(-rf*tau)], where tau is the default time\n",
    "    \n",
    "<span style=\"color: purple\">  g: Represents the expected value of the premium leg, i.e., the total premium payments made up to the time of default (or maturity). It includes discounting and the survival probability. \n",
    "    g = E[integral<0, min(tau, T)>(spread*exp(-rf*t))dt]"
   ]
  },
  {
   "cell_type": "code",
   "execution_count": 303,
   "id": "e3e06f8b",
   "metadata": {},
   "outputs": [],
   "source": [
    "# Function to calculate survival probabilities\n",
    "def survival_probability(X, dt):\n",
    "    \"\"\"\n",
    "    Approximates the survival probability S(t) = P(tau > t).\n",
    "    \"\"\"\n",
    "    cumulative_hazard = np.cumsum(X * dt)  # Integral of intensity\n",
    "    return np.exp(-cumulative_hazard)\n",
    "\n",
    "# Time step\n",
    "dt = T / steps\n",
    "time_grid = np.linspace(0, T, steps)\n",
    "\n",
    "# Initialize F(t) and g(t) for each entity\n",
    "F_t = np.zeros((N + 1, steps))\n",
    "g_t = np.zeros((N + 1, steps))\n",
    "\n",
    "for i in range(N + 1):\n",
    "    # Intensity path for the entity\n",
    "    intensity_path = X_trajectory[i, :]  # Intensity path for entity i over all time steps\n",
    "\n",
    "    # Calculate survival probabilities\n",
    "    S = survival_probability(intensity_path, dt)\n",
    "\n",
    "    # Loop over time steps to compute time-dependent F(t) and g(t)\n",
    "    for t_idx in range(steps):\n",
    "        # Time grid for integration\n",
    "        future_time = time_grid[t_idx:]\n",
    "        future_intensity = intensity_path[t_idx:]\n",
    "        future_S = S[t_idx:]\n",
    "\n",
    "        # Discount factors\n",
    "        future_discount = np.exp(-rf_rate * (future_time - time_grid[t_idx]))\n",
    "\n",
    "        # F(t): Default leg\n",
    "        default_density = future_intensity * future_S  # Default probability density\n",
    "        F_t[i, t_idx] = np.sum(default_density * lgd * future_discount * dt)\n",
    "\n",
    "        # g(t): Premium leg\n",
    "        g_t[i, t_idx] = np.sum(future_S * spreads[i] * future_discount * dt)\n"
   ]
  },
  {
   "cell_type": "code",
   "execution_count": 311,
   "id": "65ec891f",
   "metadata": {},
   "outputs": [
    {
     "data": {
      "text/plain": [
       "1.3301764955357624"
      ]
     },
     "execution_count": 311,
     "metadata": {},
     "output_type": "execute_result"
    }
   ],
   "source": [
    "(F_t[:, 1]-g_t[:, 1]).sum()"
   ]
  },
  {
   "cell_type": "code",
   "execution_count": 312,
   "id": "e035642d",
   "metadata": {},
   "outputs": [
    {
     "data": {
      "text/plain": [
       "array([0.55750237, 0.50508944, 0.43733485, 0.3972054 ])"
      ]
     },
     "execution_count": 312,
     "metadata": {},
     "output_type": "execute_result"
    }
   ],
   "source": [
    "F_t[:, 1]"
   ]
  },
  {
   "cell_type": "markdown",
   "id": "413c1f9a",
   "metadata": {},
   "source": [
    "## compute theta"
   ]
  },
  {
   "cell_type": "code",
   "execution_count": 305,
   "id": "24bd84d6",
   "metadata": {},
   "outputs": [
    {
     "name": "stdout",
     "output_type": "stream",
     "text": [
      "\n",
      "Theta_GKW at final time step:\n",
      "  -0.0000\n"
     ]
    }
   ],
   "source": [
    "# Compute theta_GKW using time-dependent F(t) and g(t)\n",
    "theta_GKW = np.zeros(steps)\n",
    "for t_idx in range(steps):\n",
    "    # Numerator: U^CDS = F(t) - g(t) (time-dependent)\n",
    "    U_cds_t = np.sum(F_t[:, t_idx] - g_t[:, t_idx])  # Aggregate U^CDS across entities\n",
    "\n",
    "    # Denominator: Phi (sum of default intensities at time t)\n",
    "    Phi_t = np.sum(X_trajectory[:, t_idx]) + 1e-6  # Avoid division by zero\n",
    "\n",
    "    # Calculate theta_GKW for this time step\n",
    "    theta_GKW[t_idx] = U_cds_t / Phi_t\n",
    "\n",
    "# Output final theta_GKW\n",
    "print(\"\\nTheta_GKW at final time step:\")\n",
    "print(f\"  {theta_GKW[-1]:.4f}\")\n"
   ]
  },
  {
   "cell_type": "code",
   "execution_count": 319,
   "id": "82a0a57a",
   "metadata": {},
   "outputs": [
    {
     "data": {
      "text/plain": [
       "array([ 0.54068271,  0.55277964,  0.53038596, -0.11305187])"
      ]
     },
     "execution_count": 319,
     "metadata": {},
     "output_type": "execute_result"
    }
   ],
   "source": [
    "F_t[:, 0] - g_t[:,0]"
   ]
  },
  {
   "cell_type": "code",
   "execution_count": 320,
   "id": "46bb3886",
   "metadata": {},
   "outputs": [
    {
     "data": {
      "image/png": "[encoded data removed]",
      "text/plain": [
       "<Figure size 640x480 with 1 Axes>"
      ]
     },
     "metadata": {},
     "output_type": "display_data"
    }
   ],
   "source": [
    "plt.plot(time_grid, -theta_GKW, label=\"Theta_GKW\")\n",
    "plt.xlabel(\"Time\")\n",
    "plt.ylabel(\"Theta_GKW\")\n",
    "plt.title(\"Theta_GKW over Time\")\n",
    "plt.legend()\n",
    "plt.grid(True)\n",
    "plt.show()\n",
    "\n"
   ]
  },
  {
   "cell_type": "markdown",
   "id": "7cbbc156",
   "metadata": {},
   "source": [
    "<span style=\"color: purple\"> phi reflects the level of systemic risk in the CDS portfolio, A higher phi implies a higher likelihood of defaults across the system, requiring the net value F(t)−g(t) to be scaled appropriately. it captures the current state of risk in the system at t."
   ]
  },
  {
   "cell_type": "code",
   "execution_count": null,
   "id": "efe11dba",
   "metadata": {},
   "outputs": [],
   "source": []
  },
  {
   "cell_type": "code",
   "execution_count": null,
   "id": "9555d804",
   "metadata": {},
   "outputs": [],
   "source": []
  },
  {
   "cell_type": "code",
   "execution_count": null,
   "id": "6eeccc8f",
   "metadata": {},
   "outputs": [],
   "source": []
  }
 ],
 "metadata": {
  "kernelspec": {
   "display_name": "Python 3 (ipykernel)",
   "language": "python",
   "name": "python3"
  },
  "language_info": {
   "codemirror_mode": {
    "name": "ipython",
    "version": 3
   },
   "file_extension": ".py",
   "mimetype": "text/x-python",
   "name": "python",
   "nbconvert_exporter": "python",
   "pygments_lexer": "ipython3",
   "version": "3.11.5"
  }
 },
 "nbformat": 4,
 "nbformat_minor": 5
}
